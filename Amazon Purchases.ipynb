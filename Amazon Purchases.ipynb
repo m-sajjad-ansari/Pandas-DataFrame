{
 "cells": [
  {
   "cell_type": "code",
   "execution_count": 1,
   "id": "37c5d76d-e035-454c-a8a1-6b137b94c1eb",
   "metadata": {},
   "outputs": [],
   "source": [
    "import numpy as np\n",
    "import pandas as pd"
   ]
  },
  {
   "cell_type": "code",
   "execution_count": 55,
   "id": "a29b0f9f-4b7b-44a7-8902-1838dc70c47d",
   "metadata": {},
   "outputs": [],
   "source": [
    "amazon=pd.read_csv(r\"C:/Users/MMT/Pictures/Test/Test/assets/Delete/Ecommerce Purchases/Ecommerce Purchases\")"
   ]
  },
  {
   "cell_type": "code",
   "execution_count": 63,
   "id": "594f1d16-d4f7-4746-b238-cc70a014ae71",
   "metadata": {},
   "outputs": [
    {
     "data": {
      "text/html": [
       "<div>\n",
       "<style scoped>\n",
       "    .dataframe tbody tr th:only-of-type {\n",
       "        vertical-align: middle;\n",
       "    }\n",
       "\n",
       "    .dataframe tbody tr th {\n",
       "        vertical-align: top;\n",
       "    }\n",
       "\n",
       "    .dataframe thead th {\n",
       "        text-align: right;\n",
       "    }\n",
       "</style>\n",
       "<table border=\"1\" class=\"dataframe\">\n",
       "  <thead>\n",
       "    <tr style=\"text-align: right;\">\n",
       "      <th></th>\n",
       "      <th>Address</th>\n",
       "      <th>Lot</th>\n",
       "      <th>AM or PM</th>\n",
       "      <th>Browser Info</th>\n",
       "      <th>Company</th>\n",
       "      <th>Credit Card</th>\n",
       "      <th>CC Exp Date</th>\n",
       "      <th>CC Security Code</th>\n",
       "      <th>CC Provider</th>\n",
       "      <th>Email</th>\n",
       "      <th>Job</th>\n",
       "      <th>IP Address</th>\n",
       "      <th>Language</th>\n",
       "      <th>Purchase Price</th>\n",
       "    </tr>\n",
       "  </thead>\n",
       "  <tbody>\n",
       "    <tr>\n",
       "      <th>5959</th>\n",
       "      <td>520 Vincent Rest Suite 772\\nEast Omar, IN 19229</td>\n",
       "      <td>70 IS</td>\n",
       "      <td>AM</td>\n",
       "      <td>Opera/8.80.(X11; Linux x86_64; it-IT) Presto/2...</td>\n",
       "      <td>Warren, Stanton and Holland</td>\n",
       "      <td>3096227353442807</td>\n",
       "      <td>10/16</td>\n",
       "      <td>934</td>\n",
       "      <td>VISA 16 digit</td>\n",
       "      <td>greyes@davis.com</td>\n",
       "      <td>Statistician</td>\n",
       "      <td>123.86.249.77</td>\n",
       "      <td>el</td>\n",
       "      <td>89.58</td>\n",
       "    </tr>\n",
       "    <tr>\n",
       "      <th>7930</th>\n",
       "      <td>PSC 2207, Box 2898\\nAPO AP 59220</td>\n",
       "      <td>74 yC</td>\n",
       "      <td>PM</td>\n",
       "      <td>Opera/9.82.(Windows 98; en-US) Presto/2.9.175 ...</td>\n",
       "      <td>Wallace PLC</td>\n",
       "      <td>675948280382</td>\n",
       "      <td>01/25</td>\n",
       "      <td>247</td>\n",
       "      <td>Diners Club / Carte Blanche</td>\n",
       "      <td>phaynes@calderon-williams.com</td>\n",
       "      <td>Immunologist</td>\n",
       "      <td>117.160.81.8</td>\n",
       "      <td>es</td>\n",
       "      <td>37.99</td>\n",
       "    </tr>\n",
       "    <tr>\n",
       "      <th>5957</th>\n",
       "      <td>158 Michelle Brooks\\nWest Anthonyhaven, FL 78327</td>\n",
       "      <td>61 Sk</td>\n",
       "      <td>AM</td>\n",
       "      <td>Mozilla/5.0 (iPod; U; CPU iPhone OS 3_0 like M...</td>\n",
       "      <td>Caldwell-Gomez</td>\n",
       "      <td>3337103673782009</td>\n",
       "      <td>03/22</td>\n",
       "      <td>448</td>\n",
       "      <td>VISA 16 digit</td>\n",
       "      <td>ojohnson@jones.com</td>\n",
       "      <td>Pathologist</td>\n",
       "      <td>220.181.48.170</td>\n",
       "      <td>de</td>\n",
       "      <td>53.64</td>\n",
       "    </tr>\n",
       "  </tbody>\n",
       "</table>\n",
       "</div>"
      ],
      "text/plain": [
       "                                               Address    Lot AM or PM  \\\n",
       "5959   520 Vincent Rest Suite 772\\nEast Omar, IN 19229  70 IS       AM   \n",
       "7930                  PSC 2207, Box 2898\\nAPO AP 59220  74 yC       PM   \n",
       "5957  158 Michelle Brooks\\nWest Anthonyhaven, FL 78327  61 Sk       AM   \n",
       "\n",
       "                                           Browser Info  \\\n",
       "5959  Opera/8.80.(X11; Linux x86_64; it-IT) Presto/2...   \n",
       "7930  Opera/9.82.(Windows 98; en-US) Presto/2.9.175 ...   \n",
       "5957  Mozilla/5.0 (iPod; U; CPU iPhone OS 3_0 like M...   \n",
       "\n",
       "                          Company       Credit Card CC Exp Date  \\\n",
       "5959  Warren, Stanton and Holland  3096227353442807       10/16   \n",
       "7930                  Wallace PLC      675948280382       01/25   \n",
       "5957               Caldwell-Gomez  3337103673782009       03/22   \n",
       "\n",
       "      CC Security Code                  CC Provider  \\\n",
       "5959               934                VISA 16 digit   \n",
       "7930               247  Diners Club / Carte Blanche   \n",
       "5957               448                VISA 16 digit   \n",
       "\n",
       "                              Email           Job      IP Address Language  \\\n",
       "5959               greyes@davis.com  Statistician   123.86.249.77       el   \n",
       "7930  phaynes@calderon-williams.com  Immunologist    117.160.81.8       es   \n",
       "5957             ojohnson@jones.com   Pathologist  220.181.48.170       de   \n",
       "\n",
       "      Purchase Price  \n",
       "5959           89.58  \n",
       "7930           37.99  \n",
       "5957           53.64  "
      ]
     },
     "execution_count": 63,
     "metadata": {},
     "output_type": "execute_result"
    }
   ],
   "source": [
    "amazon.sample(3)"
   ]
  },
  {
   "cell_type": "code",
   "execution_count": 53,
   "id": "f79155f9-2a9a-46a3-8843-adc0156c4340",
   "metadata": {},
   "outputs": [
    {
     "data": {
      "text/plain": [
       "Address              object\n",
       "Lot                  object\n",
       "AM or PM             object\n",
       "Browser Info         object\n",
       "Company              object\n",
       "Credit Card           int64\n",
       "CC Exp Date          object\n",
       "CC Security Code      int64\n",
       "CC Provider          object\n",
       "Email                object\n",
       "Job                  object\n",
       "IP Address           object\n",
       "Language             object\n",
       "Purchase Price      float64\n",
       "dtype: object"
      ]
     },
     "execution_count": 53,
     "metadata": {},
     "output_type": "execute_result"
    }
   ],
   "source": [
    "amazon.dtypes"
   ]
  },
  {
   "cell_type": "code",
   "execution_count": 54,
   "id": "2ba6ea87-f738-4bfd-b2c6-124578d4500f",
   "metadata": {},
   "outputs": [
    {
     "data": {
      "text/plain": [
       "Address             0\n",
       "Lot                 0\n",
       "AM or PM            0\n",
       "Browser Info        0\n",
       "Company             0\n",
       "Credit Card         0\n",
       "CC Exp Date         0\n",
       "CC Security Code    0\n",
       "CC Provider         0\n",
       "Email               0\n",
       "Job                 0\n",
       "IP Address          0\n",
       "Language            0\n",
       "Purchase Price      0\n",
       "dtype: int64"
      ]
     },
     "execution_count": 54,
     "metadata": {},
     "output_type": "execute_result"
    }
   ],
   "source": [
    "amazon.isnull().sum()"
   ]
  },
  {
   "cell_type": "code",
   "execution_count": 49,
   "id": "c7fc215e-96f5-4d50-94bf-e72d144013ab",
   "metadata": {},
   "outputs": [
    {
     "name": "stdout",
     "output_type": "stream",
     "text": [
      "Highest :  99.99\n"
     ]
    },
    {
     "data": {
      "text/plain": [
       "0.0"
      ]
     },
     "execution_count": 49,
     "metadata": {},
     "output_type": "execute_result"
    }
   ],
   "source": [
    "# highest and lowest purchase price\n",
    "amazon.sample(3)\n",
    "print(\"Highest : \",amazon['Purchase Price'].sort_values().iloc[-1])\n",
    "amazon['Purchase Price'].min()"
   ]
  },
  {
   "cell_type": "code",
   "execution_count": 50,
   "id": "0749433d-63cb-4081-99d6-4980f2ba9e04",
   "metadata": {},
   "outputs": [
    {
     "data": {
      "text/plain": [
       "50.35"
      ]
     },
     "execution_count": 50,
     "metadata": {},
     "output_type": "execute_result"
    }
   ],
   "source": [
    "amazon['Purchase Price'].mean().round(2)"
   ]
  },
  {
   "cell_type": "code",
   "execution_count": 51,
   "id": "be43226b-2de6-410e-a939-0b5d4f2e3762",
   "metadata": {},
   "outputs": [
    {
     "data": {
      "text/plain": [
       "Address             1097\n",
       "Lot                 1097\n",
       "AM or PM            1097\n",
       "Browser Info        1097\n",
       "Company             1097\n",
       "Credit Card         1097\n",
       "CC Exp Date         1097\n",
       "CC Security Code    1097\n",
       "CC Provider         1097\n",
       "Email               1097\n",
       "Job                 1097\n",
       "IP Address          1097\n",
       "Language            1097\n",
       "Purchase Price      1097\n",
       "dtype: int64"
      ]
     },
     "execution_count": 51,
     "metadata": {},
     "output_type": "execute_result"
    }
   ],
   "source": [
    "amazon.sample(3)\n",
    "mask1=amazon['Language']=='fr'\n",
    "amazon[mask1].count()"
   ]
  },
  {
   "cell_type": "code",
   "execution_count": 40,
   "id": "3a632974-7c32-42ce-b00b-2e0179874883",
   "metadata": {},
   "outputs": [
    {
     "data": {
      "text/plain": [
       "1097"
      ]
     },
     "execution_count": 40,
     "metadata": {},
     "output_type": "execute_result"
    }
   ],
   "source": [
    "len(amazon[mask1])"
   ]
  },
  {
   "cell_type": "code",
   "execution_count": 65,
   "id": "08ed43e0-5b81-4822-a58e-c55a25e9f066",
   "metadata": {},
   "outputs": [
    {
     "data": {
      "text/plain": [
       "984"
      ]
     },
     "execution_count": 65,
     "metadata": {},
     "output_type": "execute_result"
    }
   ],
   "source": [
    "# Engineers\n",
    "amazon.sample(3)\n",
    "mask=amazon['Job'].str.contains('engineer',case=False)\n",
    "len(amazon[mask])"
   ]
  },
  {
   "cell_type": "code",
   "execution_count": 69,
   "id": "07e58028-a038-4556-bffd-1a4feca69b18",
   "metadata": {},
   "outputs": [
    {
     "name": "stdout",
     "output_type": "stream",
     "text": [
      "2    amymiller@morales-harrison.com\n",
      "Name: Email, dtype: object\n"
     ]
    },
    {
     "data": {
      "text/html": [
       "<div>\n",
       "<style scoped>\n",
       "    .dataframe tbody tr th:only-of-type {\n",
       "        vertical-align: middle;\n",
       "    }\n",
       "\n",
       "    .dataframe tbody tr th {\n",
       "        vertical-align: top;\n",
       "    }\n",
       "\n",
       "    .dataframe thead th {\n",
       "        text-align: right;\n",
       "    }\n",
       "</style>\n",
       "<table border=\"1\" class=\"dataframe\">\n",
       "  <thead>\n",
       "    <tr style=\"text-align: right;\">\n",
       "      <th></th>\n",
       "      <th>Address</th>\n",
       "      <th>Lot</th>\n",
       "      <th>AM or PM</th>\n",
       "      <th>Browser Info</th>\n",
       "      <th>Company</th>\n",
       "      <th>Credit Card</th>\n",
       "      <th>CC Exp Date</th>\n",
       "      <th>CC Security Code</th>\n",
       "      <th>CC Provider</th>\n",
       "      <th>Email</th>\n",
       "      <th>Job</th>\n",
       "      <th>IP Address</th>\n",
       "      <th>Language</th>\n",
       "      <th>Purchase Price</th>\n",
       "    </tr>\n",
       "  </thead>\n",
       "  <tbody>\n",
       "    <tr>\n",
       "      <th>2</th>\n",
       "      <td>Unit 0065 Box 5052\\nDPO AP 27450</td>\n",
       "      <td>94 vE</td>\n",
       "      <td>PM</td>\n",
       "      <td>Mozilla/5.0 (compatible; MSIE 9.0; Windows NT ...</td>\n",
       "      <td>Simpson, Williams and Pham</td>\n",
       "      <td>675957666125</td>\n",
       "      <td>08/19</td>\n",
       "      <td>699</td>\n",
       "      <td>JCB 16 digit</td>\n",
       "      <td>amymiller@morales-harrison.com</td>\n",
       "      <td>Customer service manager</td>\n",
       "      <td>132.207.160.22</td>\n",
       "      <td>de</td>\n",
       "      <td>0.95</td>\n",
       "    </tr>\n",
       "  </tbody>\n",
       "</table>\n",
       "</div>"
      ],
      "text/plain": [
       "                            Address    Lot AM or PM  \\\n",
       "2  Unit 0065 Box 5052\\nDPO AP 27450  94 vE       PM   \n",
       "\n",
       "                                        Browser Info  \\\n",
       "2  Mozilla/5.0 (compatible; MSIE 9.0; Windows NT ...   \n",
       "\n",
       "                      Company   Credit Card CC Exp Date  CC Security Code  \\\n",
       "2  Simpson, Williams and Pham  675957666125       08/19               699   \n",
       "\n",
       "    CC Provider                           Email                       Job  \\\n",
       "2  JCB 16 digit  amymiller@morales-harrison.com  Customer service manager   \n",
       "\n",
       "       IP Address Language  Purchase Price  \n",
       "2  132.207.160.22       de            0.95  "
      ]
     },
     "execution_count": 69,
     "metadata": {},
     "output_type": "execute_result"
    }
   ],
   "source": [
    "amazon.sample(3)\n",
    "# email with IP address 132.207.160.22\n",
    "print(amazon[amazon['IP Address']=='132.207.160.22']['Email'])\n",
    "amazon[amazon['IP Address']=='132.207.160.22']"
   ]
  },
  {
   "cell_type": "code",
   "execution_count": 75,
   "id": "659815ec-71f6-43f6-a135-324552582649",
   "metadata": {},
   "outputs": [
    {
     "data": {
      "text/plain": [
       "405"
      ]
     },
     "execution_count": 75,
     "metadata": {},
     "output_type": "execute_result"
    }
   ],
   "source": [
    "# Card as mastercard and purchase above 50\n",
    "amazon.sample(3)\n",
    "mask1=amazon['CC Provider']=='Mastercard'\n",
    "mask2=amazon['Purchase Price']>=50.0\n",
    "len(amazon[mask1&mask2])"
   ]
  },
  {
   "cell_type": "code",
   "execution_count": 80,
   "id": "84d89b3d-26f9-4b88-98a6-a5e49b67ff9a",
   "metadata": {},
   "outputs": [
    {
     "data": {
      "text/plain": [
       "<Axes: ylabel='count'>"
      ]
     },
     "execution_count": 80,
     "metadata": {},
     "output_type": "execute_result"
    },
    {
     "data": {
      "image/png": "[encoded data removed]",
      "text/plain": [
       "<Figure size 640x480 with 1 Axes>"
      ]
     },
     "metadata": {},
     "output_type": "display_data"
    }
   ],
   "source": [
    "amazon.sample(3)\n",
    "# Purchase in day vs Night\n",
    "amazon.value_counts('AM or PM').plot(kind='pie')"
   ]
  },
  {
   "cell_type": "code",
   "execution_count": 121,
   "id": "b67f5bf8-97c4-4431-9106-16c13f5cec35",
   "metadata": {},
   "outputs": [
    {
     "data": {
      "text/plain": [
       "988"
      ]
     },
     "execution_count": 121,
     "metadata": {},
     "output_type": "execute_result"
    }
   ],
   "source": [
    "# Credit Cards expiring in 2020\n",
    "amazon['CC Exp Date'].str.split('/').apply(lambda x:x[1]=='20').sum()\n",
    "#mask1=movies['genres'].str.split('|').apply(lambda x:'Action' in x)"
   ]
  },
  {
   "cell_type": "code",
   "execution_count": 107,
   "id": "6c6a656c-1804-4d1d-a20a-ef970081a9ab",
   "metadata": {},
   "outputs": [],
   "source": [
    "def date_check():\n",
    "    count=0\n",
    "    for date in amazon['CC Exp Date']:\n",
    "        if date.split('/')[1]=='20':\n",
    "            count=count+1\n",
    "    print(count)"
   ]
  },
  {
   "cell_type": "code",
   "execution_count": 108,
   "id": "b5a5c7b7-7f8b-4a4a-93e1-425d9b5db5d1",
   "metadata": {},
   "outputs": [
    {
     "name": "stdout",
     "output_type": "stream",
     "text": [
      "988\n"
     ]
    }
   ],
   "source": [
    "date_check()"
   ]
  },
  {
   "cell_type": "code",
   "execution_count": 128,
   "id": "933d3862-34a4-426a-94a1-b81fc298099e",
   "metadata": {},
   "outputs": [],
   "source": [
    "# Top5 most popular email providers\n",
    "amazon.sample(3)\n",
    "amazon['Email Providers']=amazon['Email'].str.split('@').apply(lambda x:x[1])"
   ]
  },
  {
   "cell_type": "code",
   "execution_count": 133,
   "id": "8abdb8b8-8c8a-4002-a237-91b80855f231",
   "metadata": {},
   "outputs": [
    {
     "data": {
      "text/plain": [
       "Email Providers\n",
       "hotmail.com     1638\n",
       "yahoo.com       1616\n",
       "gmail.com       1605\n",
       "smith.com         42\n",
       "williams.com      37\n",
       "Name: count, dtype: int64"
      ]
     },
     "execution_count": 133,
     "metadata": {},
     "output_type": "execute_result"
    }
   ],
   "source": [
    "amazon.value_counts('Email Providers').head()"
   ]
  },
  {
   "cell_type": "code",
   "execution_count": null,
   "id": "919a77ba-ccf3-4633-8388-1175f592f433",
   "metadata": {},
   "outputs": [],
   "source": []
  }
 ],
 "metadata": {
  "kernelspec": {
   "display_name": "Python 3 (ipykernel)",
   "language": "python",
   "name": "python3"
  },
  "language_info": {
   "codemirror_mode": {
    "name": "ipython",
    "version": 3
   },
   "file_extension": ".py",
   "mimetype": "text/x-python",
   "name": "python",
   "nbconvert_exporter": "python",
   "pygments_lexer": "ipython3",
   "version": "3.12.7"
  }
 },
 "nbformat": 4,
 "nbformat_minor": 5
}
